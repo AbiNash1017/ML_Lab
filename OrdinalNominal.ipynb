{
 "cells": [
  {
   "cell_type": "code",
   "execution_count": 10,
   "metadata": {},
   "outputs": [
    {
     "name": "stdout",
     "output_type": "stream",
     "text": [
      "Confusion matrix:\n",
      " [[ 0  0  1  0  0  0]\n",
      " [ 0  0  9  1  0  0]\n",
      " [ 0  0 96 34  0  0]\n",
      " [ 0  0 45 81  6  0]\n",
      " [ 0  0  1 35  6  0]\n",
      " [ 0  0  0  1  4  0]]\n",
      "Classification report:\n",
      "               precision    recall  f1-score   support\n",
      "\n",
      "           3       0.00      0.00      0.00         1\n",
      "           4       0.00      0.00      0.00        10\n",
      "           5       0.63      0.74      0.68       130\n",
      "           6       0.53      0.61      0.57       132\n",
      "           7       0.38      0.14      0.21        42\n",
      "           8       0.00      0.00      0.00         5\n",
      "\n",
      "    accuracy                           0.57       320\n",
      "   macro avg       0.26      0.25      0.24       320\n",
      "weighted avg       0.53      0.57      0.54       320\n",
      "\n"
     ]
    }
   ],
   "source": [
    "import pandas as pd\n",
    "import numpy as np\n",
    "import mord\n",
    "from sklearn.model_selection import train_test_split\n",
    "from sklearn.metrics import confusion_matrix,classification_report\n",
    "\n",
    "df=pd.read_csv('Dataset/winequality-red.csv',sep=';')\n",
    "x=df.drop('quality',axis=1)\n",
    "y=df['quality']\n",
    "x_train,x_test,y_train,y_test=train_test_split(x,y,test_size=0.2,random_state=42)\n",
    "model = mord.LogisticAT()\n",
    "model.fit(x_train,y_train)\n",
    "predictions=model.predict(x_test)\n",
    "conf_matrix=confusion_matrix(y_test,predictions)\n",
    "class_report=classification_report(y_test,predictions,zero_division=0)\n",
    "print('Confusion matrix:\\n',conf_matrix)\n",
    "print('Classification report:\\n',class_report)"
   ]
  }
 ],
 "metadata": {
  "kernelspec": {
   "display_name": "Python 3",
   "language": "python",
   "name": "python3"
  },
  "language_info": {
   "codemirror_mode": {
    "name": "ipython",
    "version": 3
   },
   "file_extension": ".py",
   "mimetype": "text/x-python",
   "name": "python",
   "nbconvert_exporter": "python",
   "pygments_lexer": "ipython3",
   "version": "3.12.5"
  }
 },
 "nbformat": 4,
 "nbformat_minor": 2
}
