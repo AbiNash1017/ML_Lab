{
 "cells": [
  {
   "cell_type": "code",
   "execution_count": null,
   "metadata": {},
   "outputs": [
    {
     "name": "stdout",
     "output_type": "stream",
     "text": [
      "[[115  10]\n",
      " [ 25  42]]\n"
     ]
    }
   ],
   "source": [
    "#pima Dataset\n",
    "import pandas as pd\n",
    "from sklearn import metrics \n",
    "col_names=['pregnant','glucose','bp','skin','insulin','bmi','pedigree','age','label']\n",
    "#load dataset\n",
    "pima=pd.read_csv(r'Dataset/diabetes.csv',header=None,names=col_names)\n",
    "#split dataset in features and target variable\n",
    "feature_col=['pregnant','insulin','bmi','age','glucose','bp','pedigree']\n",
    "X=pima[feature_col]#features\n",
    "y=pima.label#target variable\n",
    "#split x and y into training and testing sets\n",
    "from sklearn.model_selection import train_test_split\n",
    "X_train,X_test,y_train,y_test=train_test_split(X,y,test_size=0.25,random_state=16)\n",
    "#import the class\n",
    "from sklearn.linear_model import LogisticRegression\n",
    "#instantiate the model(using default parameters)\n",
    "# Instantiate the model with increased max_iter\n",
    "logreg = LogisticRegression(random_state=16, max_iter=200)  # Increase max_iter as needed\n",
    "\n",
    "# Fit the model with the original (unscaled) training data\n",
    "logreg.fit(X_train, y_train)\n",
    "\n",
    "# Make predictions\n",
    "y_pred = logreg.predict(X_test)\n",
    "\n",
    "# Evaluate the model\n",
    "cnf_matrix = metrics.confusion_matrix(y_test, y_pred)\n",
    "print(cnf_matrix)"
   ]
  }
 ],
 "metadata": {
  "kernelspec": {
   "display_name": "Python 3",
   "language": "python",
   "name": "python3"
  },
  "language_info": {
   "codemirror_mode": {
    "name": "ipython",
    "version": 3
   },
   "file_extension": ".py",
   "mimetype": "text/x-python",
   "name": "python",
   "nbconvert_exporter": "python",
   "pygments_lexer": "ipython3",
   "version": "3.10.6"
  }
 },
 "nbformat": 4,
 "nbformat_minor": 2
}
